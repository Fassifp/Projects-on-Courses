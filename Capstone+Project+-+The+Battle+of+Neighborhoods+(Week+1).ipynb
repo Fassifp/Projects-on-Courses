{
 "cells": [
  {
   "cell_type": "markdown",
   "metadata": {},
   "source": [
    "# Capstone Project - The Battle of Neighborhoods (Week 1)"
   ]
  },
  {
   "cell_type": "markdown",
   "metadata": {},
   "source": [
    "## Introduction:"
   ]
  },
  {
   "cell_type": "markdown",
   "metadata": {},
   "source": [
    "New York is one of the most diverse cities in the world. Different cultures, different people and environments, living together in a single geographical and economic space. The economic space, which in its magnitude, made the city nicknamed \"the city of business\". \n",
    "\n",
    "All this diversity and predominant economic factor create the scenario for companies to become extremely competitive, a fact that cheers consumers, and discourages some new entrepreneurs or business that wish to install their operations to new parts of this giant city.\n",
    "\n",
    "Companies and entrepreneurs are increasingly looking to use data to establish business plans and operations. And it is in this scenario that the present project emerges."
   ]
  },
  {
   "cell_type": "markdown",
   "metadata": {},
   "source": [
    "## Problem Description"
   ]
  },
  {
   "cell_type": "markdown",
   "metadata": {},
   "source": [
    "The real estate company 'NEWPLACE', very well known in New York, intends to expand its services to the Manhattan area. The problem is that it is an extremely competitive area, and that the company has no knowledge about the neighborhoods, prices and the characteristics of the properties and in which locations they must act to reach a good target audience. \n",
    "\n",
    "They then decided to turn to data science in order to understand more about Manhattan, and make their investment in expansion much safer.\n",
    "\n",
    "The company also made it clear that, if it were possible, it would like to use these analyzes for other areas, thus changing only the database / city they are looking for to generate another area knowledge report."
   ]
  },
  {
   "cell_type": "markdown",
   "metadata": {},
   "source": [
    "## Project StakeHolders or Target audience:"
   ]
  },
  {
   "cell_type": "markdown",
   "metadata": {},
   "source": [
    "This project aims to first reach the company “NEWPLACE”, with an analysis of property prices, number of property sales and characteristics of Manhattam to assist in its business plan and action.\n",
    "\n",
    "However, the same project can be used by other companies selling real estate and tourism to understand the characteristics of the neighborhoods and thus improve their offerings to their customers and even expand their markets and investments."
   ]
  },
  {
   "cell_type": "markdown",
   "metadata": {},
   "source": [
    "## Success Criteria:"
   ]
  },
  {
   "cell_type": "markdown",
   "metadata": {},
   "source": [
    "We can say that we were successful in the project if the final result is a base with the information clustered by segmentation of prices of properties sold, number of sales and business / environment of the neighborhoods of Manhattan, ready to be analyzed by the business due to understand where they can act in their expansion,"
   ]
  }
 ],
 "metadata": {
  "kernelspec": {
   "display_name": "Python 3",
   "language": "python",
   "name": "python3"
  },
  "language_info": {
   "codemirror_mode": {
    "name": "ipython",
    "version": 3
   },
   "file_extension": ".py",
   "mimetype": "text/x-python",
   "name": "python",
   "nbconvert_exporter": "python",
   "pygments_lexer": "ipython3",
   "version": "3.6.3"
  }
 },
 "nbformat": 4,
 "nbformat_minor": 2
}
