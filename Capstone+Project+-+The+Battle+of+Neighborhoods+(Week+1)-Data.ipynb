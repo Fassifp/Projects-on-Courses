{
 "cells": [
  {
   "cell_type": "markdown",
   "metadata": {},
   "source": [
    "# Capstone Project - The Battle of Neighborhoods (Week 1)"
   ]
  },
  {
   "cell_type": "markdown",
   "metadata": {},
   "source": [
    "## Data Sources:"
   ]
  },
  {
   "cell_type": "markdown",
   "metadata": {},
   "source": [
    "###### Data 01 - Manhattan Property Sales:"
   ]
  },
  {
   "cell_type": "markdown",
   "metadata": {},
   "source": [
    "In order to carry out the project, information on all property sales that took place in Manhattan in recent years is required, containing information such as price, type of housing, amount of sales and also the neighborhood in which the property was sold. For this, we selected the database of property sales information in Manhattan, made available by the New York government, from which the following features will be used:\n",
    "\n",
    "* NEIGHBORHOOD;\n",
    "* TYPE OF HOME;\n",
    "* NUMBER OF SALES;\n",
    "* AVERAGE SALE PRICE;\n",
    "\n",
    "Link: https://www1.nyc.gov/assets/finance/downloads/pdf/rolling_sales/neighborhood_sales/2019/2019_manhattan_sales_prices.xlsx"
   ]
  },
  {
   "cell_type": "markdown",
   "metadata": {},
   "source": [
    "###### Data 02:"
   ]
  },
  {
   "cell_type": "markdown",
   "metadata": {},
   "source": [
    "Venue information from the FourSquare API will also be used for the neighborhoods of Manhattan. The purpose of using them is to enrich the final base with information about the characteristics of that neighborhood (businesses, parks, gyms and others), to give an even more comprehensive view of the physical structure of the area.\n",
    "\n",
    "The base will contain:\n",
    "\n",
    "* Business;\n",
    "* Neighborhoods;\n",
    "* Locations.\n",
    "\n",
    "Link: https://foursquare.com/"
   ]
  }
 ],
 "metadata": {
  "kernelspec": {
   "display_name": "Python 3",
   "language": "python",
   "name": "python3"
  },
  "language_info": {
   "codemirror_mode": {
    "name": "ipython",
    "version": 3
   },
   "file_extension": ".py",
   "mimetype": "text/x-python",
   "name": "python",
   "nbconvert_exporter": "python",
   "pygments_lexer": "ipython3",
   "version": "3.6.3"
  }
 },
 "nbformat": 4,
 "nbformat_minor": 2
}
